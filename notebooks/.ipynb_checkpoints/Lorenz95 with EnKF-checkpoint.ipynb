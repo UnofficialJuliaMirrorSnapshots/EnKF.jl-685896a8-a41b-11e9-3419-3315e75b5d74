{
 "cells": [
  {
   "cell_type": "code",
   "execution_count": 1,
   "metadata": {},
   "outputs": [
    {
     "data": {
      "text/plain": [
       "\"/media/mat/HDD/EnKF/Project.toml\""
      ]
     },
     "execution_count": 1,
     "metadata": {},
     "output_type": "execute_result"
    }
   ],
   "source": [
    "using Pkg\n",
    "Pkg.activate(\"/media/mat/HDD/EnKF/\")"
   ]
  },
  {
   "cell_type": "code",
   "execution_count": 2,
   "metadata": {},
   "outputs": [
    {
     "name": "stderr",
     "output_type": "stream",
     "text": [
      "┌ Info: Recompiling stale cache file /home/mat/.julia/compiled/v1.1/Revise/M1Qoh.ji for Revise [295af30f-e4ad-537b-8983-00126c2a3abe]\n",
      "└ @ Base loading.jl:1184\n",
      "┌ Info: Recompiling stale cache file /home/mat/.julia/compiled/v1.1/EnKF/oXK06.ji for EnKF [685896a8-a41b-11e9-3419-3315e75b5d74]\n",
      "└ @ Base loading.jl:1184\n",
      "┌ Warning: Replacing docs for `EnKF.A :: Union{Tuple{EnsembleState{N,TS}}, Tuple{TS}, Tuple{NS}, Tuple{N}} where TS where NS where N` in module `EnKF`\n",
      "└ @ Base.Docs docs/Docs.jl:223\n",
      "┌ Warning: Replacing docs for `EnKF.A :: Union{Tuple{EnsembleState{N,TS}}, Tuple{TS}, Tuple{NS}, Tuple{N}} where TS where NS where N` in module `EnKF`\n",
      "└ @ Base.Docs docs/Docs.jl:223\n",
      "┌ Info: Recompiling stale cache file /home/mat/.julia/compiled/v1.1/DifferentialEquations/UQdwS.ji for DifferentialEquations [0c46a032-eb83-5123-abaf-570d42b7fbaa]\n",
      "└ @ Base loading.jl:1184\n"
     ]
    }
   ],
   "source": [
    "using Revise\n",
    "using EnKF\n",
    "using Distributions\n",
    "using DocStringExtensions\n",
    "using LinearAlgebra\n",
    "using ProgressMeter\n",
    "using DifferentialEquations"
   ]
  },
  {
   "cell_type": "code",
   "execution_count": 3,
   "metadata": {},
   "outputs": [
    {
     "name": "stderr",
     "output_type": "stream",
     "text": [
      "┌ Info: Recompiling stale cache file /home/mat/.julia/compiled/v1.1/Plots/ld3vC.ji for Plots [91a5bcdd-55d7-5caf-9e0b-520d859cae80]\n",
      "└ @ Base loading.jl:1184\n",
      "┌ Info: Recompiling stale cache file /home/mat/.julia/compiled/v1.1/PyPlot/oatAj.ji for PyPlot [d330b81b-6aea-500a-939a-2ce795aea3ee]\n",
      "└ @ Base loading.jl:1184\n"
     ]
    },
    {
     "data": {
      "text/plain": [
       "Plots.PyPlotBackend()"
      ]
     },
     "execution_count": 3,
     "metadata": {},
     "output_type": "execute_result"
    }
   ],
   "source": [
    "using Plots\n",
    "default(tickfont = font(\"CMU Serif\", 9), \n",
    "        titlefont = font(\"CMU Serif\", 14), \n",
    "        guidefont = font(\"CMU Serif\", 12),\n",
    "        legendfont = font(\"CMU Serif\", 10),\n",
    "        grid = false)\n",
    "clibrary(:colorbrewer)\n",
    "pyplot()"
   ]
  },
  {
   "cell_type": "markdown",
   "metadata": {},
   "source": [
    "We are interested in simulating the Lorenz attractor\n",
    "            $$\\frac{d x_i}{dt} = (x_{i+1} - x_{i-2})x_{i-1} - x_i + F$$ with \n",
    "            $F = 8, x_0 = x_{40}, x_{-1} = x_{39}, x_{41} = x_1$ "
   ]
  },
  {
   "cell_type": "markdown",
   "metadata": {},
   "source": [
    "Define parameters of the Lorenz attractor"
   ]
  },
  {
   "cell_type": "code",
   "execution_count": 4,
   "metadata": {},
   "outputs": [
    {
     "data": {
      "text/plain": [
       "t: 0.0\n",
       "u: 40-element Array{Float64,1}:\n",
       " 0.098818440600275   \n",
       " 0.6141722464455859  \n",
       " 0.4999790804728117  \n",
       " 0.7711691428072494  \n",
       " 0.16858871073581017 \n",
       " 0.08898788661152524 \n",
       " 0.5264096163970087  \n",
       " 0.9772470764924037  \n",
       " 0.17885531920050668 \n",
       " 0.0979838833805815  \n",
       " 0.2980952441275022  \n",
       " 0.8905814697024217  \n",
       " 0.15459637367347767 \n",
       " ⋮                   \n",
       " 0.35625563082063705 \n",
       " 0.36961260053053935 \n",
       " 0.2132271105648491  \n",
       " 0.5010463476622813  \n",
       " 0.037103303045139535\n",
       " 0.43772539650123754 \n",
       " 0.4761738639676185  \n",
       " 0.652499558777418   \n",
       " 0.7617681218611547  \n",
       " 0.33590631653589664 \n",
       " 0.7763229001998402  \n",
       " 0.950600566053333   "
      ]
     },
     "execution_count": 4,
     "metadata": {},
     "output_type": "execute_result"
    }
   ],
   "source": [
    "function lorenz95(du,u,p,t)\n",
    "    \n",
    "    # first the 3 edge cases: i=1,2,N\n",
    "    du[1] = (u[2] - u[39])*u[40] - u[1] \n",
    "    du[2] = (u[3] - u[40])*u[1] -  u[2]\n",
    "    du[40] = (u[1] - u[38])*u[39] -  u[40]\n",
    "    \n",
    "    for i = 3:39\n",
    "    du[i] = (u[i+1] - u[i-2])*u[i-1] -u[i] \n",
    "    end\n",
    "\n",
    "    du .+=8.0\n",
    "end\n",
    "\n",
    "\n",
    "u0 = rand(40)\n",
    "tspan = (0.0,500.0)\n",
    "\n",
    "Δt = 1e-2\n",
    "T = tspan[1]:Δt:tspan[end]\n",
    "\n",
    "prob = ODEProblem(lorenz95,u0,tspan)\n",
    "sol = solve(prob, RK4(), adaptive = false, dt = Δt)\n",
    "\n",
    "integrator = init(prob, RK4(), adaptive =false, dt = Δt, save_everystep=false)"
   ]
  },
  {
   "cell_type": "code",
   "execution_count": 5,
   "metadata": {},
   "outputs": [
    {
     "data": {
      "text/plain": [
       "1-element Array{Array{Float64,1},1}:\n",
       " [0.0988184, 0.614172, 0.499979, 0.771169, 0.168589, 0.0889879, 0.52641, 0.977247, 0.178855, 0.0979839  …  0.213227, 0.501046, 0.0371033, 0.437725, 0.476174, 0.6525, 0.761768, 0.335906, 0.776323, 0.950601]"
      ]
     },
     "execution_count": 5,
     "metadata": {},
     "output_type": "execute_result"
    }
   ],
   "source": [
    "states = [deepcopy(u0)]"
   ]
  },
  {
   "cell_type": "code",
   "execution_count": 6,
   "metadata": {},
   "outputs": [],
   "source": [
    "for t in T[1:end-1]\n",
    "    step!(integrator)\n",
    "    push!(states, deepcopy(integrator.u))\n",
    "end"
   ]
  },
  {
   "cell_type": "code",
   "execution_count": null,
   "metadata": {},
   "outputs": [],
   "source": [
    "plot(T, hcat(states...)[1,:], linewidth  = 3)\n",
    "plot!(T, hcat(states...)[2,:], linewidth = 3)\n",
    "plot!(T, hcat(states...)[3,:], linewidth = 3)"
   ]
  },
  {
   "cell_type": "markdown",
   "metadata": {},
   "source": [
    "Define propagation function fprop"
   ]
  },
  {
   "cell_type": "code",
   "execution_count": null,
   "metadata": {},
   "outputs": [],
   "source": [
    "function (::PropagationFunction)(t::Float64, ENS::EnsembleState{N, TS}) where {N, TS}\n",
    "    for (i,s) in enumerate(ENS.S)\n",
    "        \n",
    "        set_t!(integrator, deepcopy(t))\n",
    "        set_u!(integrator, deepcopy(s))\n",
    "        for j=1:50\n",
    "        step!(integrator)\n",
    "        end\n",
    "        ENS.S[i] = deepcopy(integrator.u)\n",
    "\n",
    "    end\n",
    "    \n",
    "    return ENS\n",
    "end"
   ]
  },
  {
   "cell_type": "code",
   "execution_count": null,
   "metadata": {},
   "outputs": [],
   "source": [
    "fprop = PropagationFunction()"
   ]
  },
  {
   "cell_type": "markdown",
   "metadata": {},
   "source": [
    "Define measurement function m"
   ]
  },
  {
   "cell_type": "code",
   "execution_count": null,
   "metadata": {},
   "outputs": [],
   "source": [
    "function (::MeasurementFunction)(t::Float64, s::TS) where TS\n",
    "    return s\n",
    "end"
   ]
  },
  {
   "cell_type": "code",
   "execution_count": null,
   "metadata": {},
   "outputs": [],
   "source": [
    "function (::MeasurementFunction)(t::Float64) \n",
    "    return I\n",
    "end"
   ]
  },
  {
   "cell_type": "code",
   "execution_count": null,
   "metadata": {},
   "outputs": [],
   "source": [
    "m = MeasurementFunction()"
   ]
  },
  {
   "cell_type": "markdown",
   "metadata": {},
   "source": [
    "Define  real measurement function z, always measure the true state but is corrupted by noise ϵ"
   ]
  },
  {
   "cell_type": "code",
   "execution_count": null,
   "metadata": {},
   "outputs": [],
   "source": [
    "function (::RealMeasurementFunction)(t::Float64, ENS::EnsembleState{N, TZ}) where {N, TZ}\n",
    "    let s = sol(t)\n",
    "    fill!(ENS, deepcopy(s))\n",
    "    end\n",
    "    return ENS\n",
    "end"
   ]
  },
  {
   "cell_type": "code",
   "execution_count": null,
   "metadata": {},
   "outputs": [],
   "source": [
    "z = RealMeasurementFunction()"
   ]
  },
  {
   "cell_type": "markdown",
   "metadata": {},
   "source": [
    "Define filtering function"
   ]
  },
  {
   "cell_type": "code",
   "execution_count": null,
   "metadata": {},
   "outputs": [],
   "source": [
    "g = FilteringFunction()"
   ]
  },
  {
   "cell_type": "markdown",
   "metadata": {},
   "source": [
    "Define covariance inflation"
   ]
  },
  {
   "cell_type": "code",
   "execution_count": null,
   "metadata": {},
   "outputs": [],
   "source": [
    "# A = MultiAdditiveInflation(40, 1.05, MvNormal(zeros(40), 2.0*I))\n",
    "# A = RTPSInflation(0.8)\n",
    "# A = MultiplicativeInflation(40, 1.05)\n",
    "A = RTPSAdditiveInflation(0.75, MvNormal(zeros(40), 0.1*I));\n",
    "# A = IdentityInflation()"
   ]
  },
  {
   "cell_type": "markdown",
   "metadata": {},
   "source": [
    "Define noise covariance"
   ]
  },
  {
   "cell_type": "code",
   "execution_count": null,
   "metadata": {},
   "outputs": [],
   "source": [
    "ϵ = AdditiveInflation(MvNormal(zeros(40), 1.0*I));"
   ]
  },
  {
   "cell_type": "code",
   "execution_count": null,
   "metadata": {},
   "outputs": [],
   "source": [
    "N = 10\n",
    "NZ = 40\n",
    "isinflated = true\n",
    "isfiltered = false\n",
    "isaugmented = false;"
   ]
  },
  {
   "cell_type": "code",
   "execution_count": null,
   "metadata": {},
   "outputs": [],
   "source": [
    "ens = initialize(N, MvNormal(zeros(40), 2.0*I))\n",
    "estimation_state = [deepcopy(ens.S)]\n",
    "\n",
    "tmp = deepcopy(u0)\n",
    "true_state = [deepcopy(u0)]"
   ]
  },
  {
   "cell_type": "code",
   "execution_count": null,
   "metadata": {},
   "outputs": [],
   "source": [
    "enkf = ENKF(N, NZ, fprop, A, g, m, z, ϵ, isinflated, isfiltered, isaugmented)"
   ]
  },
  {
   "cell_type": "markdown",
   "metadata": {},
   "source": [
    "### Ensemble Kalman filter estimation"
   ]
  },
  {
   "cell_type": "code",
   "execution_count": null,
   "metadata": {},
   "outputs": [],
   "source": [
    "Δt = 1e-2\n",
    "Tsub = 0.0:50*Δt:500.0-50*Δt\n",
    "\n",
    "@showprogress for (n,t) in enumerate(Tsub)\n",
    "\n",
    "    global ens\n",
    "#     enkf.f(t, ens)\n",
    "    t, ens,_ = enkf(t, 50*Δt, ens)\n",
    "    push!(estimation_state, deepcopy(ens.S))\n",
    "    \n",
    "\n",
    "end"
   ]
  },
  {
   "cell_type": "markdown",
   "metadata": {},
   "source": [
    "$$ \\|A\\|_p = \\left( \\sum_{i=1}^n | a_i | ^p \\right)^{1/p} $$"
   ]
  },
  {
   "cell_type": "code",
   "execution_count": null,
   "metadata": {},
   "outputs": [],
   "source": [
    "s =  hcat(sol(T).u...)\n",
    "ŝ =  hcat(mean.(estimation_state)...)\n",
    "ssub =  hcat(sol(Tsub).u...)\n",
    "norm(ssub - ŝ[:,1:end-1])/norm(ssub)"
   ]
  },
  {
   "cell_type": "code",
   "execution_count": null,
   "metadata": {},
   "outputs": [],
   "source": [
    "plt = plot(layout = (3, 1), legend = true)\n",
    "plot!(plt[1], T, s[1,1:end], linewidth = 2, label = \"truth\")\n",
    "scatter!(plt[1], Tsub, ŝ[1,1:end-1], linewidth = 2, markersize = 3, label = \"EnKF mean\", xlabel = \"t\", ylabel = \"x\", linestyle =:dash)\n",
    "\n",
    "plot!(plt[2], T, s[2,1:end], linewidth = 2, label = \"truth\")\n",
    "scatter!(plt[2], Tsub, ŝ[2,1:end-1], linewidth = 2, markersize = 3, label = \"EnKF mean\", xlabel = \"t\", ylabel = \"y\", linestyle =:dash)\n",
    "\n",
    "plot!(plt[3], T, s[3,1:end], linewidth = 2, label = \"truth\")\n",
    "scatter!(plt[3], Tsub, ŝ[3,1:end-1], linewidth = 2, markersize = 3, label = \"EnKF mean\", xlabel = \"t\", ylabel = \"z\", linestyle =:dash)"
   ]
  },
  {
   "cell_type": "code",
   "execution_count": null,
   "metadata": {},
   "outputs": [],
   "source": [
    "plot(T, s[1,:], linewidth = 3, label = \"truth\")\n",
    "# plot!(Tsub, ŝ[1,1:end-1], linewidth = 3, label = \"EnKF mean\", xlabel = \"t\", ylabel = \"x\", linestyle =:dash)\n",
    "scatter!(Tsub, ŝ[1,1:end-1], linewidth = 3, label = \"EnKF mean\", xlabel = \"t\", ylabel = \"x\", linestyle =:dash)"
   ]
  },
  {
   "cell_type": "code",
   "execution_count": null,
   "metadata": {},
   "outputs": [],
   "source": []
  },
  {
   "cell_type": "code",
   "execution_count": null,
   "metadata": {},
   "outputs": [],
   "source": []
  }
 ],
 "metadata": {
  "@webio": {
   "lastCommId": null,
   "lastKernelId": null
  },
  "kernelspec": {
   "display_name": "Julia 1.1.1",
   "language": "julia",
   "name": "julia-1.1"
  },
  "language_info": {
   "file_extension": ".jl",
   "mimetype": "application/julia",
   "name": "julia",
   "version": "1.1.1"
  }
 },
 "nbformat": 4,
 "nbformat_minor": 2
}
